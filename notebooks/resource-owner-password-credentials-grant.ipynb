{
 "cells": [
  {
   "cell_type": "code",
   "execution_count": 1,
   "id": "914acfb8-2138-47ca-b731-b9aa502c147d",
   "metadata": {},
   "outputs": [],
   "source": [
    "from include import *\n",
    "\n",
    "import base64\n",
    "import json\n",
    "import jwt\n",
    "from IPython.lib.pretty import pretty"
   ]
  },
  {
   "cell_type": "code",
   "execution_count": 2,
   "id": "72c47f41-b083-4d8e-a3af-cd1330d0566a",
   "metadata": {},
   "outputs": [
    {
     "name": "stdout",
     "output_type": "stream",
     "text": [
      "{\n",
      "    \"access_token\": \"eyJhbGciOiJSUzI1NiIsInR5cCIgOiAiSldUIiwia2lkIiA6ICJjTF9waTRmM3B2RGI1NlpocXdBa0ZXMGs1bnVsYzZMR0JOZVBmeEFTUS1vIn0.eyJleHAiOjE2Mzc3MDM2OTksImlhdCI6MTYzNzcwMzM5OSwianRpIjoiNjFkOWI0MmYtYjQ5MC00ZDBlLTkwM2EtMDM4YjU3ZTA4OGRiIiwiaXNzIjoiaHR0cDovL2tleWNsb2FrOjgwODAvYXV0aC9yZWFsbXMvZGVtbyIsImF1ZCI6ImFjY291bnQiLCJzdWIiOiI1MDNmYmI3YS05NmEyLTQ3N2EtYjM0Zi04Y2Y0MzgxNTg3YzAiLCJ0eXAiOiJCZWFyZXIiLCJhenAiOiJyZXNvdXJjZS1vd25lci1wYXNzd29yZC1jcmVkZW50aWFscy1ncmFudC1jbGllbnQiLCJzZXNzaW9uX3N0YXRlIjoiYTk4NDIwOTktOTljNS00YTU5LTlmZTYtNDEyNjU1MTk2ZmEzIiwiYWNyIjoiMSIsInJlYWxtX2FjY2VzcyI6eyJyb2xlcyI6WyJvZmZsaW5lX2FjY2VzcyIsImRlZmF1bHQtcm9sZXMtZGVtbyIsInVtYV9hdXRob3JpemF0aW9uIl19LCJyZXNvdXJjZV9hY2Nlc3MiOnsiYWNjb3VudCI6eyJyb2xlcyI6WyJtYW5hZ2UtYWNjb3VudCIsIm1hbmFnZS1hY2NvdW50LWxpbmtzIiwidmlldy1wcm9maWxlIl19fSwic2NvcGUiOiJwcm9maWxlIGVtYWlsIiwic2lkIjoiYTk4NDIwOTktOTljNS00YTU5LTlmZTYtNDEyNjU1MTk2ZmEzIiwiZW1haWxfdmVyaWZpZWQiOnRydWUsIm5hbWUiOiJGYWxrIEhhcnRtYW5uIiwicHJlZmVycmVkX3VzZXJuYW1lIjoiZmFsay5oYXJ0bWFubkBzY2lvdGEuaW8iLCJnaXZlbl9uYW1lIjoiRmFsayIsImZhbWlseV9uYW1lIjoiSGFydG1hbm4iLCJlbWFpbCI6ImZhbGsuaGFydG1hbm5Ac2Npb3RhLmlvIn0.KLxAWQgusGvkKxyhLR9UmRlJn611_JRA333CtgKbziy-qJ46_F3FkXxKlW_dNi8GjKoUNF6DB9if_AUcoNU2x3jSiPErgfVbnuveRxndphACe8P37shtkYjYwAeZEMY2JFTwrBygf0xHlgle-ev6H7Db3p5To_hTGkkQ5KCFjXBWnV0GjeaA0pu4NZPaiBto4UYFrWDApFXpyD9ApwjoiVJRentdxRZ7sVzojxHK556Z14hzSl6tGEIEOtgp_eEHlr5Ej-4arKQ-5tMaP-50wCuWSmY-O5MOUHjXTMqPyvXehgNquxQPkfWuQPktzeKNzNdw8cM_NuEsX2YCChE1Jw\",\n",
      "    \"expires_in\": 300,\n",
      "    \"not-before-policy\": 0,\n",
      "    \"refresh_expires_in\": 1800,\n",
      "    \"refresh_token\": \"eyJhbGciOiJIUzI1NiIsInR5cCIgOiAiSldUIiwia2lkIiA6ICIzZDgzMmQwNC0zZjVhLTRjMTMtYTA0MS0yOGFmODNlNzdmZGQifQ.eyJleHAiOjE2Mzc3MDUxOTksImlhdCI6MTYzNzcwMzM5OSwianRpIjoiMmYxN2I1NmItMzcwMS00ODEyLWJhNTMtYWIxMmRlY2MwMmEyIiwiaXNzIjoiaHR0cDovL2tleWNsb2FrOjgwODAvYXV0aC9yZWFsbXMvZGVtbyIsImF1ZCI6Imh0dHA6Ly9rZXljbG9hazo4MDgwL2F1dGgvcmVhbG1zL2RlbW8iLCJzdWIiOiI1MDNmYmI3YS05NmEyLTQ3N2EtYjM0Zi04Y2Y0MzgxNTg3YzAiLCJ0eXAiOiJSZWZyZXNoIiwiYXpwIjoicmVzb3VyY2Utb3duZXItcGFzc3dvcmQtY3JlZGVudGlhbHMtZ3JhbnQtY2xpZW50Iiwic2Vzc2lvbl9zdGF0ZSI6ImE5ODQyMDk5LTk5YzUtNGE1OS05ZmU2LTQxMjY1NTE5NmZhMyIsInNjb3BlIjoicHJvZmlsZSBlbWFpbCIsInNpZCI6ImE5ODQyMDk5LTk5YzUtNGE1OS05ZmU2LTQxMjY1NTE5NmZhMyJ9.U2fQ_a9X_kc7qQvu5ql6L8x8oSy7nujw8m3W3SBAe1Q\",\n",
      "    \"scope\": \"profile email\",\n",
      "    \"session_state\": \"a9842099-99c5-4a59-9fe6-412655196fa3\",\n",
      "    \"token_type\": \"Bearer\"\n",
      "}\n"
     ]
    }
   ],
   "source": [
    "cmd=f'''\n",
    "curl -s -POST http://keycloak:8080/auth/realms/demo/protocol/openid-connect/token \\\n",
    "--header 'Content-Type: application/x-www-form-urlencoded' \\\n",
    "--data-urlencode 'password={PWD}' \\\n",
    "--data-urlencode 'username=falk.hartmann@sciota.io' \\\n",
    "--data-urlencode 'client_id=resource-owner-password-credentials-grant-client' \\\n",
    "--data-urlencode 'client_secret={PWD}' \\\n",
    "--data-urlencode 'grant_type=password' \\\n",
    "'''\n",
    "contents = !{cmd}\n",
    "json_pretty_print(contents.n)"
   ]
  },
  {
   "cell_type": "code",
   "execution_count": null,
   "id": "0ee36dd8-ca0e-41fc-9612-5bbb33f9cac5",
   "metadata": {},
   "outputs": [],
   "source": []
  },
  {
   "cell_type": "code",
   "execution_count": null,
   "id": "a5f340b7-4371-49c3-b9e2-b543e8fd6c68",
   "metadata": {},
   "outputs": [],
   "source": []
  }
 ],
 "metadata": {
  "kernelspec": {
   "display_name": "Python 3 (ipykernel)",
   "language": "python",
   "name": "python3"
  },
  "language_info": {
   "codemirror_mode": {
    "name": "ipython",
    "version": 3
   },
   "file_extension": ".py",
   "mimetype": "text/x-python",
   "name": "python",
   "nbconvert_exporter": "python",
   "pygments_lexer": "ipython3",
   "version": "3.8.10"
  }
 },
 "nbformat": 4,
 "nbformat_minor": 5
}
