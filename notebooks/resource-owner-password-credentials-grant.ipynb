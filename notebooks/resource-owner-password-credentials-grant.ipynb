{
 "cells": [
  {
   "cell_type": "code",
   "execution_count": 1,
   "id": "914acfb8-2138-47ca-b731-b9aa502c147d",
   "metadata": {},
   "outputs": [],
   "source": [
    "from include import *\n",
    "\n",
    "import base64\n",
    "import json\n",
    "import jwt\n",
    "from IPython.lib.pretty import pretty"
   ]
  },
  {
   "cell_type": "code",
   "execution_count": 2,
   "id": "72c47f41-b083-4d8e-a3af-cd1330d0566a",
   "metadata": {},
   "outputs": [
    {
     "ename": "NameError",
     "evalue": "name 'PWD' is not defined",
     "output_type": "error",
     "traceback": [
      "\u001b[0;31m---------------------------------------------------------------------------\u001b[0m",
      "\u001b[0;31mNameError\u001b[0m                                 Traceback (most recent call last)",
      "Input \u001b[0;32mIn [2]\u001b[0m, in \u001b[0;36m<cell line: 1>\u001b[0;34m()\u001b[0m\n\u001b[1;32m      1\u001b[0m cmd\u001b[38;5;241m=\u001b[39m\u001b[38;5;124mf\u001b[39m\u001b[38;5;124m'''\u001b[39m\n\u001b[1;32m      2\u001b[0m \u001b[38;5;124mcurl -s -POST http://keycloak:8080/auth/realms/demo/protocol/openid-connect/token \u001b[39m\u001b[38;5;130;01m\\\u001b[39;00m\n\u001b[1;32m      3\u001b[0m \u001b[38;5;124m--header \u001b[39m\u001b[38;5;124m'\u001b[39m\u001b[38;5;124mContent-Type: application/x-www-form-urlencoded\u001b[39m\u001b[38;5;124m'\u001b[39m\u001b[38;5;124m \u001b[39m\u001b[38;5;130;01m\\\u001b[39;00m\n\u001b[0;32m----> 4\u001b[0m \u001b[38;5;124m--data-urlencode \u001b[39m\u001b[38;5;124m'\u001b[39m\u001b[38;5;124mpassword=\u001b[39m\u001b[38;5;132;01m{\u001b[39;00mPWD\u001b[38;5;132;01m}\u001b[39;00m\u001b[38;5;124m'\u001b[39m\u001b[38;5;124m \u001b[39m\u001b[38;5;130;01m\\\u001b[39;00m\n\u001b[1;32m      5\u001b[0m \u001b[38;5;124m--data-urlencode \u001b[39m\u001b[38;5;124m'\u001b[39m\u001b[38;5;124musername=falk.hartmann@sciota.io\u001b[39m\u001b[38;5;124m'\u001b[39m\u001b[38;5;124m \u001b[39m\u001b[38;5;130;01m\\\u001b[39;00m\n\u001b[1;32m      6\u001b[0m \u001b[38;5;124m--data-urlencode \u001b[39m\u001b[38;5;124m'\u001b[39m\u001b[38;5;124mclient_id=resource-owner-password-credentials-grant-client\u001b[39m\u001b[38;5;124m'\u001b[39m\u001b[38;5;124m \u001b[39m\u001b[38;5;130;01m\\\u001b[39;00m\n\u001b[1;32m      7\u001b[0m \u001b[38;5;124m--data-urlencode \u001b[39m\u001b[38;5;124m'\u001b[39m\u001b[38;5;124mclient_secret=\u001b[39m\u001b[38;5;132;01m{\u001b[39;00mPWD\u001b[38;5;132;01m}\u001b[39;00m\u001b[38;5;124m'\u001b[39m\u001b[38;5;124m \u001b[39m\u001b[38;5;130;01m\\\u001b[39;00m\n\u001b[1;32m      8\u001b[0m \u001b[38;5;124m--data-urlencode \u001b[39m\u001b[38;5;124m'\u001b[39m\u001b[38;5;124mgrant_type=password\u001b[39m\u001b[38;5;124m'\u001b[39m\u001b[38;5;124m \u001b[39m\u001b[38;5;130;01m\\\u001b[39;00m\n\u001b[1;32m      9\u001b[0m \u001b[38;5;124m'''\u001b[39m\n\u001b[1;32m     10\u001b[0m contents \u001b[38;5;241m=\u001b[39m get_ipython()\u001b[38;5;241m.\u001b[39mgetoutput(\u001b[38;5;124m'\u001b[39m\u001b[38;5;132;01m{cmd}\u001b[39;00m\u001b[38;5;124m'\u001b[39m)\n\u001b[1;32m     11\u001b[0m json_pretty_print(contents\u001b[38;5;241m.\u001b[39mn)\n",
      "\u001b[0;31mNameError\u001b[0m: name 'PWD' is not defined"
     ]
    }
   ],
   "source": [
    "cmd=f'''\n",
    "curl -s -POST http://keycloak:8080/auth/realms/demo/protocol/openid-connect/token \\\n",
    "--header 'Content-Type: application/x-www-form-urlencoded' \\\n",
    "--data-urlencode 'password={PWD}' \\\n",
    "--data-urlencode 'username=falk.hartmann@sciota.io' \\\n",
    "--data-urlencode 'client_id=resource-owner-password-credentials-grant-client' \\\n",
    "--data-urlencode 'client_secret={PWD}' \\\n",
    "--data-urlencode 'grant_type=password' \\\n",
    "'''\n",
    "contents = !{cmd}\n",
    "json_pretty_print(contents.n)"
   ]
  },
  {
   "cell_type": "code",
   "execution_count": null,
   "id": "0ee36dd8-ca0e-41fc-9612-5bbb33f9cac5",
   "metadata": {},
   "outputs": [],
   "source": []
  },
  {
   "cell_type": "code",
   "execution_count": null,
   "id": "a5f340b7-4371-49c3-b9e2-b543e8fd6c68",
   "metadata": {},
   "outputs": [],
   "source": []
  }
 ],
 "metadata": {
  "kernelspec": {
   "display_name": "Python 3 (ipykernel)",
   "language": "python",
   "name": "python3"
  },
  "language_info": {
   "codemirror_mode": {
    "name": "ipython",
    "version": 3
   },
   "file_extension": ".py",
   "mimetype": "text/x-python",
   "name": "python",
   "nbconvert_exporter": "python",
   "pygments_lexer": "ipython3",
   "version": "3.8.10"
  }
 },
 "nbformat": 4,
 "nbformat_minor": 5
}
