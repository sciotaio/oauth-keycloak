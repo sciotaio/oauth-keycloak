{
 "cells": [
  {
   "cell_type": "code",
   "execution_count": 1,
   "id": "914acfb8-2138-47ca-b731-b9aa502c147d",
   "metadata": {},
   "outputs": [],
   "source": [
    "from include import *\n",
    "\n",
    "import base64\n",
    "import json\n",
    "import jwt\n",
    "from IPython.lib.pretty import pretty"
   ]
  },
  {
   "cell_type": "code",
   "execution_count": 4,
   "id": "72c47f41-b083-4d8e-a3af-cd1330d0566a",
   "metadata": {},
   "outputs": [
    {
     "name": "stdout",
     "output_type": "stream",
     "text": [
      "{\n",
      "    \"error\": \"invalid_grant\",\n",
      "    \"error_description\": \"Invalid user credentials\"\n",
      "}\n"
     ]
    }
   ],
   "source": [
    "cmd=f'''\n",
    "curl -s -POST http://keycloak:8080/auth/realms/demo/protocol/openid-connect/token \\\n",
    "--header 'Content-Type: application/x-www-form-urlencoded' \\\n",
    "--data-urlencode 'password={PWD}' \\\n",
    "--data-urlencode 'username=falk.hartmann@sciota.io' \\\n",
    "--data-urlencode 'client_id=resource-owner-password-credentials-grant-client' \\\n",
    "--data-urlencode 'client_secret={PWD}' \\\n",
    "--data-urlencode 'grant_type=password' \\\n",
    "'''\n",
    "contents = !{cmd}\n",
    "json_pretty_print(contents.n)"
   ]
  },
  {
   "cell_type": "code",
   "execution_count": null,
   "id": "0ee36dd8-ca0e-41fc-9612-5bbb33f9cac5",
   "metadata": {},
   "outputs": [],
   "source": []
  },
  {
   "cell_type": "code",
   "execution_count": null,
   "id": "a5f340b7-4371-49c3-b9e2-b543e8fd6c68",
   "metadata": {},
   "outputs": [],
   "source": []
  }
 ],
 "metadata": {
  "kernelspec": {
   "display_name": "Python 3 (ipykernel)",
   "language": "python",
   "name": "python3"
  },
  "language_info": {
   "codemirror_mode": {
    "name": "ipython",
    "version": 3
   },
   "file_extension": ".py",
   "mimetype": "text/x-python",
   "name": "python",
   "nbconvert_exporter": "python",
   "pygments_lexer": "ipython3",
   "version": "3.8.10"
  }
 },
 "nbformat": 4,
 "nbformat_minor": 5
}
