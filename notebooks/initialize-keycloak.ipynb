{
 "cells": [
  {
   "cell_type": "markdown",
   "id": "9a7bb612-13e1-46ca-b6bb-cd9de082920a",
   "metadata": {},
   "source": [
    "First of all, a user in the demo realm must be created with the following properties:\n",
    "\"email\": \"falk.hartmann@sciota.io\",\n",
    "\"username\": \"falk.hartmann@sciota.io\",\n",
    "\"firstName\": \"Falk\",\n",
    "\"lastName\": \"Hartmann\",\n",
    "\"credentials\": **********"
   ]
  },
  {
   "cell_type": "code",
   "execution_count": null,
   "id": "a0ac98f4-bb12-4ae0-90a4-280f5ad28542",
   "metadata": {},
   "outputs": [],
   "source": []
  },
  {
   "cell_type": "code",
   "execution_count": null,
   "id": "a51532af-1e8f-4c0e-af2c-ea88433e14c5",
   "metadata": {},
   "outputs": [],
   "source": []
  },
  {
   "cell_type": "code",
   "execution_count": null,
   "id": "0da14066-3c91-4ec7-aca9-8fccb6483e80",
   "metadata": {},
   "outputs": [],
   "source": []
  },
  {
   "cell_type": "code",
   "execution_count": null,
   "id": "a0953a33-da50-4ffd-b093-dd7acdc401f2",
   "metadata": {},
   "outputs": [],
   "source": []
  },
  {
   "cell_type": "code",
   "execution_count": null,
   "id": "3ec556fa-bd58-417f-bcc5-96efc2c8d44b",
   "metadata": {},
   "outputs": [],
   "source": []
  }
 ],
 "metadata": {
  "kernelspec": {
   "display_name": "Python 3 (ipykernel)",
   "language": "python",
   "name": "python3"
  },
  "language_info": {
   "codemirror_mode": {
    "name": "ipython",
    "version": 3
   },
   "file_extension": ".py",
   "mimetype": "text/x-python",
   "name": "python",
   "nbconvert_exporter": "python",
   "pygments_lexer": "ipython3",
   "version": "3.8.10"
  }
 },
 "nbformat": 4,
 "nbformat_minor": 5
}
