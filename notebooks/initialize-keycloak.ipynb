{
 "cells": [
  {
   "cell_type": "markdown",
   "id": "9a7bb612-13e1-46ca-b6bb-cd9de082920a",
   "metadata": {},
   "source": [
    "First of all, a user in the demo realm must be created with the following properties:\n",
    "* email: `falk.hartmann@sciota.io`\n",
    "* username: `falk.hartmann@sciota.io`\n",
    "* firstName: `Falk`\n",
    "* lastName: `Hartmann`\n",
    "* credentials: `**********`"
   ]
  }
 ],
 "metadata": {
  "kernelspec": {
   "display_name": "Python 3 (ipykernel)",
   "language": "python",
   "name": "python3"
  },
  "language_info": {
   "codemirror_mode": {
    "name": "ipython",
    "version": 3
   },
   "file_extension": ".py",
   "mimetype": "text/x-python",
   "name": "python",
   "nbconvert_exporter": "python",
   "pygments_lexer": "ipython3",
   "version": "3.8.10"
  }
 },
 "nbformat": 4,
 "nbformat_minor": 5
}
