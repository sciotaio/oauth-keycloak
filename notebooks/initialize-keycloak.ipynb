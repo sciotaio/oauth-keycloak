{
 "cells": [
  {
   "cell_type": "code",
   "execution_count": 13,
   "id": "c6a0af7f-bba3-4d11-9734-0f2fd0ca46ad",
   "metadata": {},
   "outputs": [
    {
     "name": "stdout",
     "output_type": "stream",
     "text": [
      "**********\n",
      "ce7b24d6-238f-4e78-a73b-b7602c757e2f\n"
     ]
    }
   ],
   "source": [
    "from include import *\n",
    "\n",
    "from keycloak import KeycloakAdmin\n",
    "\n",
    "keycloak_admin = KeycloakAdmin(server_url=\"http://keycloak:8080/auth/\",\n",
    "                               username='admin',\n",
    "                               password='password',\n",
    "                               realm_name=\"master\",\n",
    "                               verify=True)\n",
    "\n",
    "# Add user\n",
    "new_user = keycloak_admin.create_user({\"email\": \"falk.hartmann@sciota.io\",\n",
    "                    \"username\": \"falk.hartmann@sciota.io\",\n",
    "                    \"enabled\": True,\n",
    "                    \"firstName\": \"Falk\",\n",
    "                    \"lastName\": \"Hartmann\",\n",
    "                    \"credentials\": [{\"value\": \"**********\", \"type\": \"password\"}]})\n",
    "print(new_user)"
   ]
  },
  {
   "cell_type": "code",
   "execution_count": null,
   "id": "a0ac98f4-bb12-4ae0-90a4-280f5ad28542",
   "metadata": {},
   "outputs": [],
   "source": []
  },
  {
   "cell_type": "code",
   "execution_count": null,
   "id": "a0953a33-da50-4ffd-b093-dd7acdc401f2",
   "metadata": {},
   "outputs": [],
   "source": []
  }
 ],
 "metadata": {
  "kernelspec": {
   "display_name": "Python 3 (ipykernel)",
   "language": "python",
   "name": "python3"
  },
  "language_info": {
   "codemirror_mode": {
    "name": "ipython",
    "version": 3
   },
   "file_extension": ".py",
   "mimetype": "text/x-python",
   "name": "python",
   "nbconvert_exporter": "python",
   "pygments_lexer": "ipython3",
   "version": "3.8.10"
  }
 },
 "nbformat": 4,
 "nbformat_minor": 5
}
