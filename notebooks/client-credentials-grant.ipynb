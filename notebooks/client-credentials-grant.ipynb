{
 "cells": [
  {
   "cell_type": "code",
   "execution_count": 1,
   "id": "60c06520-e025-471a-90a3-0967761c0671",
   "metadata": {},
   "outputs": [],
   "source": [
    "import base64\n",
    "import json\n",
    "import jwt\n",
    "from IPython.lib.pretty import pretty"
   ]
  },
  {
   "cell_type": "code",
   "execution_count": 2,
   "id": "95ee6142-7379-4518-b8cd-c32420d0e262",
   "metadata": {},
   "outputs": [
    {
     "name": "stdout",
     "output_type": "stream",
     "text": [
      "['{\"access_token\":\"eyJhbGciOiJSUzI1NiIsInR5cCIgOiAiSldUIiwia2lkIiA6ICJMczFqeld1M1EzWFhqSmcyX1psRnhtMTB5a3dlV2xOM2x3dS1tN0tOUzg4In0.eyJleHAiOjE2Mzc3MDQ1MjQsImlhdCI6MTYzNzcwNDIyNCwianRpIjoiZmE4Zjc2Y2MtOTQwNS00MTEwLThkMjktOGI5Nzc0ZDViZjYzIiwiaXNzIjoiaHR0cDovL2tleWNsb2FrOjgwODAvYXV0aC9yZWFsbXMvZGVtbyIsImF1ZCI6ImFjY291bnQiLCJzdWIiOiJkMGQ5MGQxMi05MWE0LTRjMzMtODlhMC0wYzEyM2VlMzgyMDAiLCJ0eXAiOiJCZWFyZXIiLCJhenAiOiJjbGllbnQtY3JlZGVudGlhbHMtZ3JhbnQtY2xpZW50IiwiYWNyIjoiMSIsImFsbG93ZWQtb3JpZ2lucyI6WyJodHRwOi8vMTI3LjAuMC4xIl0sInJlYWxtX2FjY2VzcyI6eyJyb2xlcyI6WyJvZmZsaW5lX2FjY2VzcyIsImRlZmF1bHQtcm9sZXMtZGVtbyIsInVtYV9hdXRob3JpemF0aW9uIl19LCJyZXNvdXJjZV9hY2Nlc3MiOnsiYWNjb3VudCI6eyJyb2xlcyI6WyJtYW5hZ2UtYWNjb3VudCIsIm1hbmFnZS1hY2NvdW50LWxpbmtzIiwidmlldy1wcm9maWxlIl19fSwic2NvcGUiOiJwcm9maWxlIGVtYWlsIiwiY2xpZW50SG9zdCI6IjE5Mi4xNjguMTEyLjMiLCJlbWFpbF92ZXJpZmllZCI6ZmFsc2UsImNsaWVudElkIjoiY2xpZW50LWNyZWRlbnRpYWxzLWdyYW50LWNsaWVudCIsInByZWZlcnJlZF91c2VybmFtZSI6InNlcnZpY2UtYWNjb3VudC1jbGllbnQtY3JlZGVudGlhbHMtZ3JhbnQtY2xpZW50IiwiY2xpZW50QWRkcmVzcyI6IjE5Mi4xNjguMTEyLjMifQ.fpGrJXeLhBKUEh_tSUgrKf7UxSKjsND_EMbvoKQC9cXAkQnkfhwF2MEUgcp3iIj77nB2U2q1LQpG3keU50SgbJku4SgjsC7xaPlBwtTwMsJvINqPdHYRTElHwlCgGgRNp7_6t5ucj2HHC_BfiYBtPVK3sayYnS9aSNxBKhPjkJ4uXQOUu_gRGltX1pNDnuf2X7IYLe2gm_o10UwO-OO15AKFrriuSnOPAq8m0rHjEjG9X48Qfl2IfxOO7Xzv5sl-BQjCmDeM5k1Q9bP9w1pQ8g9c-MmYFMZonHVoH6jofw3nXImrcrvuzvFVOBkj3EEJJUcP_y4axJrhMtQJl6pB-Q\",\"expires_in\":300,\"refresh_expires_in\":0,\"token_type\":\"Bearer\",\"not-before-policy\":0,\"scope\":\"profile email\"}']\n"
     ]
    }
   ],
   "source": [
    "cmd='curl -s --data \"grant_type=client_credentials&client_id=client-credentials-grant-client&client_secret=**********\" http://keycloak:8080/auth/realms/demo/protocol/openid-connect/token'\n",
    "contents = !{cmd}\n",
    "print(contents)"
   ]
  },
  {
   "cell_type": "code",
   "execution_count": 6,
   "id": "14f80061-b6f0-4f1f-bf6d-065800699fb0",
   "metadata": {},
   "outputs": [
    {
     "name": "stdout",
     "output_type": "stream",
     "text": [
      "{\n",
      "    \"access_token\": \"eyJhbGciOiJSUzI1NiIsInR5cCIgOiAiSldUIiwia2lkIiA6ICJjTF9waTRmM3B2RGI1NlpocXdBa0ZXMGs1bnVsYzZMR0JOZVBmeEFTUS1vIn0.eyJleHAiOjE2Mzc3MDIyMzksImlhdCI6MTYzNzcwMTkzOSwianRpIjoiY2VlYjliZTQtNjRkOC00NzIwLTlmYWMtYjVlMTE2ZmM5OWRiIiwiaXNzIjoiaHR0cDovL2tleWNsb2FrOjgwODAvYXV0aC9yZWFsbXMvZGVtbyIsImF1ZCI6ImFjY291bnQiLCJzdWIiOiJkMGQ5MGQxMi05MWE0LTRjMzMtODlhMC0wYzEyM2VlMzgyMDAiLCJ0eXAiOiJCZWFyZXIiLCJhenAiOiJjbGllbnQtY3JlZGVudGlhbHMtZ3JhbnQtY2xpZW50IiwiYWNyIjoiMSIsImFsbG93ZWQtb3JpZ2lucyI6WyJodHRwOi8vMTI3LjAuMC4xIl0sInJlYWxtX2FjY2VzcyI6eyJyb2xlcyI6WyJvZmZsaW5lX2FjY2VzcyIsImRlZmF1bHQtcm9sZXMtZGVtbyIsInVtYV9hdXRob3JpemF0aW9uIl19LCJyZXNvdXJjZV9hY2Nlc3MiOnsiYWNjb3VudCI6eyJyb2xlcyI6WyJtYW5hZ2UtYWNjb3VudCIsIm1hbmFnZS1hY2NvdW50LWxpbmtzIiwidmlldy1wcm9maWxlIl19fSwic2NvcGUiOiJwcm9maWxlIGVtYWlsIiwiY2xpZW50SG9zdCI6IjE5Mi4xNjguOTYuMyIsImVtYWlsX3ZlcmlmaWVkIjpmYWxzZSwiY2xpZW50SWQiOiJjbGllbnQtY3JlZGVudGlhbHMtZ3JhbnQtY2xpZW50IiwicHJlZmVycmVkX3VzZXJuYW1lIjoic2VydmljZS1hY2NvdW50LWNsaWVudC1jcmVkZW50aWFscy1ncmFudC1jbGllbnQiLCJjbGllbnRBZGRyZXNzIjoiMTkyLjE2OC45Ni4zIn0.St48BqmAC717X9DoUHk6mlcHj3g5uU8wDydYCUSWU68IGynL_AG5ILfNeSiubbvmBIZvQc7gpWOp8FTRdl4ORVjASU9t_xlA8KQ_1YssgsOlQ3Rg8OQlm7K7v7umhJ-rEaT5o-YV_OlsHA-ViokzWDMuEo0ruH3TJ9_aT4VNQdWunEmhoxeiKw6GYZXljpyqXEWPBY9IKGgUOIAt8hIZD1xxW1w0BiWq6gOwhD09HrVV9QN3er5GZKVG4mUx33BErli18Aok7wNzuTnzSxMmkgS52LgzHrvY0YjLA4tNBNOXYpRFsgdBZWTeL8FrmJoFToMumOI1szL3c82e7N6bYw\",\n",
      "    \"expires_in\": 300,\n",
      "    \"not-before-policy\": 0,\n",
      "    \"refresh_expires_in\": 0,\n",
      "    \"scope\": \"profile email\",\n",
      "    \"token_type\": \"Bearer\"\n",
      "}\n"
     ]
    }
   ],
   "source": [
    "data = json.loads(contents.n)\n",
    "print(json.dumps(data, indent=4, sort_keys=True))"
   ]
  },
  {
   "cell_type": "code",
   "execution_count": 30,
   "id": "1dd6698c-f26c-4797-959a-55f95ed3737a",
   "metadata": {},
   "outputs": [
    {
     "name": "stdout",
     "output_type": "stream",
     "text": [
      "{'alg': 'RS256', 'typ': 'JWT', 'kid': '52W2hF-WOw5IY9npoEU74ShzcX21d1tYKojiY-83fUo'}\n",
      "eyJleHAiOjE2Mzc2NjA5OTcsImlhdCI6MTYzNzY2MDY5NywianRpIjoiNTkzOGI0OTUtOTcyYS00ZWIzLWJhZWYtZGFjYjgxNzc3NjcxIiwiaXNzIjoiaHR0cDovL2tleWNsb2FrOjgwODAvYXV0aC9yZWFsbXMvZGVtbyIsImF1ZCI6ImFjY291bnQiLCJzdWIiOiJkMGQ5MGQxMi05MWE0LTRjMzMtODlhMC0wYzEyM2VlMzgyMDAiLCJ0eXAiOiJCZWFyZXIiLCJhenAiOiJpbml0aWFsLWNsaWVudCIsImFjciI6IjEiLCJhbGxvd2VkLW9yaWdpbnMiOlsiaHR0cDovLzEyNy4wLjAuMSJdLCJyZWFsbV9hY2Nlc3MiOnsicm9sZXMiOlsib2ZmbGluZV9hY2Nlc3MiLCJkZWZhdWx0LXJvbGVzLWRlbW8iLCJ1bWFfYXV0aG9yaXphdGlvbiJdfSwicmVzb3VyY2VfYWNjZXNzIjp7ImFjY291bnQiOnsicm9sZXMiOlsibWFuYWdlLWFjY291bnQiLCJtYW5hZ2UtYWNjb3VudC1saW5rcyIsInZpZXctcHJvZmlsZSJdfX0sInNjb3BlIjoicHJvZmlsZSBlbWFpbCIsImNsaWVudEhvc3QiOiIxOTIuMTY4LjQ4LjMiLCJlbWFpbF92ZXJpZmllZCI6ZmFsc2UsImNsaWVudElkIjoiaW5pdGlhbC1jbGllbnQiLCJwcmVmZXJyZWRfdXNlcm5hbWUiOiJzZXJ2aWNlLWFjY291bnQtaW5pdGlhbC1jbGllbnQiLCJjbGllbnRBZGRyZXNzIjoiMTkyLjE2OC40OC4zIn0\n",
      "ZM1umWvaV1W-znS7RvjaYlXromNgmv8qNbUDevjPcinyNuck5If_Q3I3GvKjupIB4PDQyuCLJ44aX2R9xVFDIPqYnNIgKBuM8V-v92nd4sJC8cIZkAmYIGMdh7bb_WLK8taGP-I4VcjtvFCya0j3TyghaTtEMIdMRV-1hvWTlYehZkBCyry61ED-8Kz0Lqt-mgIX_EEloWN7z9HJZWYou8iBC3c8DifG31g6pQMMh1FwvPD8IsCl4kIkzwST0KZg4x6jEMX8avx1WgnXi5BW__MaCy47LE7rWCWOrvK165e-E076b8sVUBj16BToiACTPi87jtTcKZfm44EK1NV-yg\n"
     ]
    }
   ],
   "source": [
    "access_token = data[\"access_token\"]\n",
    "[header, payload, sig] = access_token.split(\".\")\n",
    "\n",
    "header_decoded = json.loads(base64.urlsafe_b64decode(header + \"=\"*divmod(len(header),4)[1]).decode(\"ascii\"))\n",
    "print(header_decoded)\n",
    "print(payload)\n",
    "print(sig)"
   ]
  },
  {
   "cell_type": "code",
   "execution_count": 26,
   "id": "6fd4fbea-d075-4009-8334-801c1c1b40ac",
   "metadata": {},
   "outputs": [
    {
     "name": "stdout",
     "output_type": "stream",
     "text": [
      "{'exp': 1637660997, 'iat': 1637660697, 'jti': '5938b495-972a-4eb3-baef-dacb81777671', 'iss': 'http://keycloak:8080/auth/realms/demo', 'aud': 'account', 'sub': 'd0d90d12-91a4-4c33-89a0-0c123ee38200', 'typ': 'Bearer', 'azp': 'initial-client', 'acr': '1', 'allowed-origins': ['http://127.0.0.1'], 'realm_access': {'roles': ['offline_access', 'default-roles-demo', 'uma_authorization']}, 'resource_access': {'account': {'roles': ['manage-account', 'manage-account-links', 'view-profile']}}, 'scope': 'profile email', 'clientHost': '192.168.48.3', 'email_verified': False, 'clientId': 'initial-client', 'preferred_username': 'service-account-initial-client', 'clientAddress': '192.168.48.3'}\n"
     ]
    }
   ],
   "source": [
    "decoded = jwt.decode(access_token, options={\"verify_signature\": False}) # works in PyJWT >= v2.0\n",
    "print(decoded)"
   ]
  },
  {
   "cell_type": "code",
   "execution_count": 32,
   "id": "6e9d383e-22f5-45e1-b0a5-fd9f88c588dc",
   "metadata": {},
   "outputs": [
    {
     "ename": "InvalidAlgorithmError",
     "evalue": "Algorithm not supported",
     "output_type": "error",
     "traceback": [
      "\u001b[0;31m---------------------------------------------------------------------------\u001b[0m",
      "\u001b[0;31mKeyError\u001b[0m                                  Traceback (most recent call last)",
      "\u001b[0;32m/usr/local/lib/python3.8/dist-packages/jwt/api_jws.py\u001b[0m in \u001b[0;36m_verify_signature\u001b[0;34m(self, signing_input, header, signature, key, algorithms)\u001b[0m\n\u001b[1;32m    234\u001b[0m         \u001b[0;32mtry\u001b[0m\u001b[0;34m:\u001b[0m\u001b[0;34m\u001b[0m\u001b[0;34m\u001b[0m\u001b[0m\n\u001b[0;32m--> 235\u001b[0;31m             \u001b[0malg_obj\u001b[0m \u001b[0;34m=\u001b[0m \u001b[0mself\u001b[0m\u001b[0;34m.\u001b[0m\u001b[0m_algorithms\u001b[0m\u001b[0;34m[\u001b[0m\u001b[0malg\u001b[0m\u001b[0;34m]\u001b[0m\u001b[0;34m\u001b[0m\u001b[0;34m\u001b[0m\u001b[0m\n\u001b[0m\u001b[1;32m    236\u001b[0m             \u001b[0mkey\u001b[0m \u001b[0;34m=\u001b[0m \u001b[0malg_obj\u001b[0m\u001b[0;34m.\u001b[0m\u001b[0mprepare_key\u001b[0m\u001b[0;34m(\u001b[0m\u001b[0mkey\u001b[0m\u001b[0;34m)\u001b[0m\u001b[0;34m\u001b[0m\u001b[0;34m\u001b[0m\u001b[0m\n",
      "\u001b[0;31mKeyError\u001b[0m: 'RS256'",
      "\nThe above exception was the direct cause of the following exception:\n",
      "\u001b[0;31mInvalidAlgorithmError\u001b[0m                     Traceback (most recent call last)",
      "\u001b[0;32m/tmp/ipykernel_16/1487162051.py\u001b[0m in \u001b[0;36m<module>\u001b[0;34m\u001b[0m\n\u001b[0;32m----> 1\u001b[0;31m \u001b[0mjwt\u001b[0m\u001b[0;34m.\u001b[0m\u001b[0mdecode\u001b[0m\u001b[0;34m(\u001b[0m\u001b[0maccess_token\u001b[0m\u001b[0;34m,\u001b[0m \u001b[0malgorithms\u001b[0m\u001b[0;34m=\u001b[0m\u001b[0mheader_decoded\u001b[0m\u001b[0;34m[\u001b[0m\u001b[0;34m\"alg\"\u001b[0m\u001b[0;34m]\u001b[0m\u001b[0;34m,\u001b[0m \u001b[0moptions\u001b[0m\u001b[0;34m=\u001b[0m\u001b[0;34m{\u001b[0m\u001b[0;34m\"verify_signature\"\u001b[0m\u001b[0;34m:\u001b[0m \u001b[0;32mTrue\u001b[0m\u001b[0;34m}\u001b[0m\u001b[0;34m)\u001b[0m\u001b[0;34m\u001b[0m\u001b[0;34m\u001b[0m\u001b[0m\n\u001b[0m",
      "\u001b[0;32m/usr/local/lib/python3.8/dist-packages/jwt/api_jwt.py\u001b[0m in \u001b[0;36mdecode\u001b[0;34m(self, jwt, key, algorithms, options, **kwargs)\u001b[0m\n\u001b[1;32m    117\u001b[0m         \u001b[0;34m**\u001b[0m\u001b[0mkwargs\u001b[0m\u001b[0;34m,\u001b[0m\u001b[0;34m\u001b[0m\u001b[0;34m\u001b[0m\u001b[0m\n\u001b[1;32m    118\u001b[0m     ) -> Dict[str, Any]:\n\u001b[0;32m--> 119\u001b[0;31m         \u001b[0mdecoded\u001b[0m \u001b[0;34m=\u001b[0m \u001b[0mself\u001b[0m\u001b[0;34m.\u001b[0m\u001b[0mdecode_complete\u001b[0m\u001b[0;34m(\u001b[0m\u001b[0mjwt\u001b[0m\u001b[0;34m,\u001b[0m \u001b[0mkey\u001b[0m\u001b[0;34m,\u001b[0m \u001b[0malgorithms\u001b[0m\u001b[0;34m,\u001b[0m \u001b[0moptions\u001b[0m\u001b[0;34m,\u001b[0m \u001b[0;34m**\u001b[0m\u001b[0mkwargs\u001b[0m\u001b[0;34m)\u001b[0m\u001b[0;34m\u001b[0m\u001b[0;34m\u001b[0m\u001b[0m\n\u001b[0m\u001b[1;32m    120\u001b[0m         \u001b[0;32mreturn\u001b[0m \u001b[0mdecoded\u001b[0m\u001b[0;34m[\u001b[0m\u001b[0;34m\"payload\"\u001b[0m\u001b[0;34m]\u001b[0m\u001b[0;34m\u001b[0m\u001b[0;34m\u001b[0m\u001b[0m\n\u001b[1;32m    121\u001b[0m \u001b[0;34m\u001b[0m\u001b[0m\n",
      "\u001b[0;32m/usr/local/lib/python3.8/dist-packages/jwt/api_jwt.py\u001b[0m in \u001b[0;36mdecode_complete\u001b[0;34m(self, jwt, key, algorithms, options, **kwargs)\u001b[0m\n\u001b[1;32m     88\u001b[0m             )\n\u001b[1;32m     89\u001b[0m \u001b[0;34m\u001b[0m\u001b[0m\n\u001b[0;32m---> 90\u001b[0;31m         decoded = api_jws.decode_complete(\n\u001b[0m\u001b[1;32m     91\u001b[0m             \u001b[0mjwt\u001b[0m\u001b[0;34m,\u001b[0m\u001b[0;34m\u001b[0m\u001b[0;34m\u001b[0m\u001b[0m\n\u001b[1;32m     92\u001b[0m             \u001b[0mkey\u001b[0m\u001b[0;34m=\u001b[0m\u001b[0mkey\u001b[0m\u001b[0;34m,\u001b[0m\u001b[0;34m\u001b[0m\u001b[0;34m\u001b[0m\u001b[0m\n",
      "\u001b[0;32m/usr/local/lib/python3.8/dist-packages/jwt/api_jws.py\u001b[0m in \u001b[0;36mdecode_complete\u001b[0;34m(self, jwt, key, algorithms, options, **kwargs)\u001b[0m\n\u001b[1;32m    150\u001b[0m \u001b[0;34m\u001b[0m\u001b[0m\n\u001b[1;32m    151\u001b[0m         \u001b[0;32mif\u001b[0m \u001b[0mverify_signature\u001b[0m\u001b[0;34m:\u001b[0m\u001b[0;34m\u001b[0m\u001b[0;34m\u001b[0m\u001b[0m\n\u001b[0;32m--> 152\u001b[0;31m             \u001b[0mself\u001b[0m\u001b[0;34m.\u001b[0m\u001b[0m_verify_signature\u001b[0m\u001b[0;34m(\u001b[0m\u001b[0msigning_input\u001b[0m\u001b[0;34m,\u001b[0m \u001b[0mheader\u001b[0m\u001b[0;34m,\u001b[0m \u001b[0msignature\u001b[0m\u001b[0;34m,\u001b[0m \u001b[0mkey\u001b[0m\u001b[0;34m,\u001b[0m \u001b[0malgorithms\u001b[0m\u001b[0;34m)\u001b[0m\u001b[0;34m\u001b[0m\u001b[0;34m\u001b[0m\u001b[0m\n\u001b[0m\u001b[1;32m    153\u001b[0m \u001b[0;34m\u001b[0m\u001b[0m\n\u001b[1;32m    154\u001b[0m         return {\n",
      "\u001b[0;32m/usr/local/lib/python3.8/dist-packages/jwt/api_jws.py\u001b[0m in \u001b[0;36m_verify_signature\u001b[0;34m(self, signing_input, header, signature, key, algorithms)\u001b[0m\n\u001b[1;32m    240\u001b[0m \u001b[0;34m\u001b[0m\u001b[0m\n\u001b[1;32m    241\u001b[0m         \u001b[0;32mexcept\u001b[0m \u001b[0mKeyError\u001b[0m \u001b[0;32mas\u001b[0m \u001b[0me\u001b[0m\u001b[0;34m:\u001b[0m\u001b[0;34m\u001b[0m\u001b[0;34m\u001b[0m\u001b[0m\n\u001b[0;32m--> 242\u001b[0;31m             \u001b[0;32mraise\u001b[0m \u001b[0mInvalidAlgorithmError\u001b[0m\u001b[0;34m(\u001b[0m\u001b[0;34m\"Algorithm not supported\"\u001b[0m\u001b[0;34m)\u001b[0m \u001b[0;32mfrom\u001b[0m \u001b[0me\u001b[0m\u001b[0;34m\u001b[0m\u001b[0;34m\u001b[0m\u001b[0m\n\u001b[0m\u001b[1;32m    243\u001b[0m \u001b[0;34m\u001b[0m\u001b[0m\n\u001b[1;32m    244\u001b[0m     \u001b[0;32mdef\u001b[0m \u001b[0m_validate_headers\u001b[0m\u001b[0;34m(\u001b[0m\u001b[0mself\u001b[0m\u001b[0;34m,\u001b[0m \u001b[0mheaders\u001b[0m\u001b[0;34m)\u001b[0m\u001b[0;34m:\u001b[0m\u001b[0;34m\u001b[0m\u001b[0;34m\u001b[0m\u001b[0m\n",
      "\u001b[0;31mInvalidAlgorithmError\u001b[0m: Algorithm not supported"
     ]
    }
   ],
   "source": [
    "jwt.decode(access_token, algorithms=header_decoded[\"alg\"], options={\"verify_signature\": True})"
   ]
  },
  {
   "cell_type": "code",
   "execution_count": null,
   "id": "9c9300fa-80a4-43e9-93af-4e0fc5dde471",
   "metadata": {},
   "outputs": [],
   "source": []
  }
 ],
 "metadata": {
  "kernelspec": {
   "display_name": "Python 3 (ipykernel)",
   "language": "python",
   "name": "python3"
  },
  "language_info": {
   "codemirror_mode": {
    "name": "ipython",
    "version": 3
   },
   "file_extension": ".py",
   "mimetype": "text/x-python",
   "name": "python",
   "nbconvert_exporter": "python",
   "pygments_lexer": "ipython3",
   "version": "3.8.10"
  }
 },
 "nbformat": 4,
 "nbformat_minor": 5
}
