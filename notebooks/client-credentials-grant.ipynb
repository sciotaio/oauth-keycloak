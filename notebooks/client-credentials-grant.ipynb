{
 "cells": [
  {
   "cell_type": "code",
   "execution_count": 1,
   "id": "60c06520-e025-471a-90a3-0967761c0671",
   "metadata": {},
   "outputs": [],
   "source": [
    "import base64\n",
    "import json\n",
    "import jwt\n",
    "from IPython.lib.pretty import pretty\n"
   ]
  },
  {
   "cell_type": "code",
   "execution_count": 2,
   "id": "95ee6142-7379-4518-b8cd-c32420d0e262",
   "metadata": {},
   "outputs": [
    {
     "name": "stdout",
     "output_type": "stream",
     "text": [
      "['{\"access_token\":\"eyJhbGciOiJSUzI1NiIsInR5cCIgOiAiSldUIiwia2lkIiA6ICJpWGFXTlZ1U1FkSmdNMkRoWXRVWGhYTHVMVXFaRjBDelppanI1VFNQckVRIn0.eyJleHAiOjE2NTE4MjgxNTksImlhdCI6MTY1MTgyNzg1OSwianRpIjoiMjA3MGRlMDUtYjgxOS00YTg3LTk0ZmItZDQ2YjM0YzhiODY0IiwiaXNzIjoiaHR0cDovL2tleWNsb2FrOjgwODAvYXV0aC9yZWFsbXMvZGVtbyIsImF1ZCI6ImFjY291bnQiLCJzdWIiOiJkMGQ5MGQxMi05MWE0LTRjMzMtODlhMC0wYzEyM2VlMzgyMDAiLCJ0eXAiOiJCZWFyZXIiLCJhenAiOiJjbGllbnQtY3JlZGVudGlhbHMtZ3JhbnQtY2xpZW50IiwiYWNyIjoiMSIsImFsbG93ZWQtb3JpZ2lucyI6WyJodHRwOi8vMTI3LjAuMC4xIl0sInJlYWxtX2FjY2VzcyI6eyJyb2xlcyI6WyJvZmZsaW5lX2FjY2VzcyIsImRlZmF1bHQtcm9sZXMtZGVtbyIsInVtYV9hdXRob3JpemF0aW9uIl19LCJyZXNvdXJjZV9hY2Nlc3MiOnsiYWNjb3VudCI6eyJyb2xlcyI6WyJtYW5hZ2UtYWNjb3VudCIsIm1hbmFnZS1hY2NvdW50LWxpbmtzIiwidmlldy1wcm9maWxlIl19fSwic2NvcGUiOiJwcm9maWxlIGVtYWlsIiwiY2xpZW50SG9zdCI6IjE3Mi4yMi4wLjYiLCJlbWFpbF92ZXJpZmllZCI6ZmFsc2UsImNsaWVudElkIjoiY2xpZW50LWNyZWRlbnRpYWxzLWdyYW50LWNsaWVudCIsInByZWZlcnJlZF91c2VybmFtZSI6InNlcnZpY2UtYWNjb3VudC1jbGllbnQtY3JlZGVudGlhbHMtZ3JhbnQtY2xpZW50IiwiY2xpZW50QWRkcmVzcyI6IjE3Mi4yMi4wLjYifQ.UAmtlguu3WA5KWreVFIl4w_NzWg-LK1rQsYFsZRciprtLKFymkXd9X39FUSqi-MD_x0_kEG2FZyBABxPcvsY3ibeETI0K6rEl3FpT9vx-zxcuZqn4-s0lRF5pQVq_t-NJ9L8JumAs9Y8ZsL4KBCvne9VCo6tjk060WVqn4DKgLZtGeDSRfeJuhZF1qpWNDQ-kjZFrHdXxPraQOipQnF-HfQtRQ3tYCY5z9NogbKMaFt5EppbRu8QYtDqkA6xybpdT4irjYGZ16ihwyJPXrjtiWr9BXla2dyWgXMMOvm7wM_s7mJ78rsEVKfe22WR6-6HmgtxRU-XPfVCZUCsgTAC8A\",\"expires_in\":300,\"refresh_expires_in\":0,\"token_type\":\"Bearer\",\"not-before-policy\":0,\"scope\":\"profile email\"}']\n"
     ]
    }
   ],
   "source": [
    "cmd='curl -s --data \"grant_type=client_credentials&client_id=client-credentials-grant-client&client_secret=**********\" http://keycloak:8080/auth/realms/demo/protocol/openid-connect/token'\n",
    "contents = !{cmd}\n",
    "print(contents)"
   ]
  },
  {
   "cell_type": "code",
   "execution_count": 3,
   "id": "14f80061-b6f0-4f1f-bf6d-065800699fb0",
   "metadata": {},
   "outputs": [
    {
     "name": "stdout",
     "output_type": "stream",
     "text": [
      "{\n",
      "    \"access_token\": \"eyJhbGciOiJSUzI1NiIsInR5cCIgOiAiSldUIiwia2lkIiA6ICJpWGFXTlZ1U1FkSmdNMkRoWXRVWGhYTHVMVXFaRjBDelppanI1VFNQckVRIn0.eyJleHAiOjE2NTE4MjgxNTksImlhdCI6MTY1MTgyNzg1OSwianRpIjoiMjA3MGRlMDUtYjgxOS00YTg3LTk0ZmItZDQ2YjM0YzhiODY0IiwiaXNzIjoiaHR0cDovL2tleWNsb2FrOjgwODAvYXV0aC9yZWFsbXMvZGVtbyIsImF1ZCI6ImFjY291bnQiLCJzdWIiOiJkMGQ5MGQxMi05MWE0LTRjMzMtODlhMC0wYzEyM2VlMzgyMDAiLCJ0eXAiOiJCZWFyZXIiLCJhenAiOiJjbGllbnQtY3JlZGVudGlhbHMtZ3JhbnQtY2xpZW50IiwiYWNyIjoiMSIsImFsbG93ZWQtb3JpZ2lucyI6WyJodHRwOi8vMTI3LjAuMC4xIl0sInJlYWxtX2FjY2VzcyI6eyJyb2xlcyI6WyJvZmZsaW5lX2FjY2VzcyIsImRlZmF1bHQtcm9sZXMtZGVtbyIsInVtYV9hdXRob3JpemF0aW9uIl19LCJyZXNvdXJjZV9hY2Nlc3MiOnsiYWNjb3VudCI6eyJyb2xlcyI6WyJtYW5hZ2UtYWNjb3VudCIsIm1hbmFnZS1hY2NvdW50LWxpbmtzIiwidmlldy1wcm9maWxlIl19fSwic2NvcGUiOiJwcm9maWxlIGVtYWlsIiwiY2xpZW50SG9zdCI6IjE3Mi4yMi4wLjYiLCJlbWFpbF92ZXJpZmllZCI6ZmFsc2UsImNsaWVudElkIjoiY2xpZW50LWNyZWRlbnRpYWxzLWdyYW50LWNsaWVudCIsInByZWZlcnJlZF91c2VybmFtZSI6InNlcnZpY2UtYWNjb3VudC1jbGllbnQtY3JlZGVudGlhbHMtZ3JhbnQtY2xpZW50IiwiY2xpZW50QWRkcmVzcyI6IjE3Mi4yMi4wLjYifQ.UAmtlguu3WA5KWreVFIl4w_NzWg-LK1rQsYFsZRciprtLKFymkXd9X39FUSqi-MD_x0_kEG2FZyBABxPcvsY3ibeETI0K6rEl3FpT9vx-zxcuZqn4-s0lRF5pQVq_t-NJ9L8JumAs9Y8ZsL4KBCvne9VCo6tjk060WVqn4DKgLZtGeDSRfeJuhZF1qpWNDQ-kjZFrHdXxPraQOipQnF-HfQtRQ3tYCY5z9NogbKMaFt5EppbRu8QYtDqkA6xybpdT4irjYGZ16ihwyJPXrjtiWr9BXla2dyWgXMMOvm7wM_s7mJ78rsEVKfe22WR6-6HmgtxRU-XPfVCZUCsgTAC8A\",\n",
      "    \"expires_in\": 300,\n",
      "    \"not-before-policy\": 0,\n",
      "    \"refresh_expires_in\": 0,\n",
      "    \"scope\": \"profile email\",\n",
      "    \"token_type\": \"Bearer\"\n",
      "}\n"
     ]
    }
   ],
   "source": [
    "data = json.loads(contents.n)\n",
    "print(json.dumps(data, indent=4, sort_keys=True))"
   ]
  },
  {
   "cell_type": "code",
   "execution_count": 4,
   "id": "1dd6698c-f26c-4797-959a-55f95ed3737a",
   "metadata": {},
   "outputs": [
    {
     "name": "stdout",
     "output_type": "stream",
     "text": [
      "{'alg': 'RS256', 'typ': 'JWT', 'kid': 'iXaWNVuSQdJgM2DhYtUXhXLuLUqZF0CzZijr5TSPrEQ'}\n",
      "eyJleHAiOjE2NTE4MjgxNTksImlhdCI6MTY1MTgyNzg1OSwianRpIjoiMjA3MGRlMDUtYjgxOS00YTg3LTk0ZmItZDQ2YjM0YzhiODY0IiwiaXNzIjoiaHR0cDovL2tleWNsb2FrOjgwODAvYXV0aC9yZWFsbXMvZGVtbyIsImF1ZCI6ImFjY291bnQiLCJzdWIiOiJkMGQ5MGQxMi05MWE0LTRjMzMtODlhMC0wYzEyM2VlMzgyMDAiLCJ0eXAiOiJCZWFyZXIiLCJhenAiOiJjbGllbnQtY3JlZGVudGlhbHMtZ3JhbnQtY2xpZW50IiwiYWNyIjoiMSIsImFsbG93ZWQtb3JpZ2lucyI6WyJodHRwOi8vMTI3LjAuMC4xIl0sInJlYWxtX2FjY2VzcyI6eyJyb2xlcyI6WyJvZmZsaW5lX2FjY2VzcyIsImRlZmF1bHQtcm9sZXMtZGVtbyIsInVtYV9hdXRob3JpemF0aW9uIl19LCJyZXNvdXJjZV9hY2Nlc3MiOnsiYWNjb3VudCI6eyJyb2xlcyI6WyJtYW5hZ2UtYWNjb3VudCIsIm1hbmFnZS1hY2NvdW50LWxpbmtzIiwidmlldy1wcm9maWxlIl19fSwic2NvcGUiOiJwcm9maWxlIGVtYWlsIiwiY2xpZW50SG9zdCI6IjE3Mi4yMi4wLjYiLCJlbWFpbF92ZXJpZmllZCI6ZmFsc2UsImNsaWVudElkIjoiY2xpZW50LWNyZWRlbnRpYWxzLWdyYW50LWNsaWVudCIsInByZWZlcnJlZF91c2VybmFtZSI6InNlcnZpY2UtYWNjb3VudC1jbGllbnQtY3JlZGVudGlhbHMtZ3JhbnQtY2xpZW50IiwiY2xpZW50QWRkcmVzcyI6IjE3Mi4yMi4wLjYifQ\n",
      "UAmtlguu3WA5KWreVFIl4w_NzWg-LK1rQsYFsZRciprtLKFymkXd9X39FUSqi-MD_x0_kEG2FZyBABxPcvsY3ibeETI0K6rEl3FpT9vx-zxcuZqn4-s0lRF5pQVq_t-NJ9L8JumAs9Y8ZsL4KBCvne9VCo6tjk060WVqn4DKgLZtGeDSRfeJuhZF1qpWNDQ-kjZFrHdXxPraQOipQnF-HfQtRQ3tYCY5z9NogbKMaFt5EppbRu8QYtDqkA6xybpdT4irjYGZ16ihwyJPXrjtiWr9BXla2dyWgXMMOvm7wM_s7mJ78rsEVKfe22WR6-6HmgtxRU-XPfVCZUCsgTAC8A\n"
     ]
    }
   ],
   "source": [
    "access_token = data[\"access_token\"]\n",
    "[header, payload, sig] = access_token.split(\".\")\n",
    "\n",
    "header_decoded = json.loads(base64.urlsafe_b64decode(header + \"=\"*divmod(len(header),4)[1]).decode(\"ascii\"))\n",
    "print(header_decoded)\n",
    "print(payload)\n",
    "print(sig)"
   ]
  },
  {
   "cell_type": "code",
   "execution_count": 5,
   "id": "6fd4fbea-d075-4009-8334-801c1c1b40ac",
   "metadata": {},
   "outputs": [
    {
     "name": "stdout",
     "output_type": "stream",
     "text": [
      "{'exp': 1651828159, 'iat': 1651827859, 'jti': '2070de05-b819-4a87-94fb-d46b34c8b864', 'iss': 'http://keycloak:8080/auth/realms/demo', 'aud': 'account', 'sub': 'd0d90d12-91a4-4c33-89a0-0c123ee38200', 'typ': 'Bearer', 'azp': 'client-credentials-grant-client', 'acr': '1', 'allowed-origins': ['http://127.0.0.1'], 'realm_access': {'roles': ['offline_access', 'default-roles-demo', 'uma_authorization']}, 'resource_access': {'account': {'roles': ['manage-account', 'manage-account-links', 'view-profile']}}, 'scope': 'profile email', 'clientHost': '172.22.0.6', 'email_verified': False, 'clientId': 'client-credentials-grant-client', 'preferred_username': 'service-account-client-credentials-grant-client', 'clientAddress': '172.22.0.6'}\n"
     ]
    }
   ],
   "source": [
    "decoded = jwt.decode(access_token, options={\"verify_signature\": False}) # works in PyJWT >= v2.0\n",
    "print(decoded)"
   ]
  },
  {
   "cell_type": "code",
   "execution_count": null,
   "id": "c01f0b36-469a-46ab-9914-7f7a7d345ff4",
   "metadata": {},
   "outputs": [],
   "source": []
  }
 ],
 "metadata": {
  "kernelspec": {
   "display_name": "Python 3 (ipykernel)",
   "language": "python",
   "name": "python3"
  },
  "language_info": {
   "codemirror_mode": {
    "name": "ipython",
    "version": 3
   },
   "file_extension": ".py",
   "mimetype": "text/x-python",
   "name": "python",
   "nbconvert_exporter": "python",
   "pygments_lexer": "ipython3",
   "version": "3.8.10"
  }
 },
 "nbformat": 4,
 "nbformat_minor": 5
}
